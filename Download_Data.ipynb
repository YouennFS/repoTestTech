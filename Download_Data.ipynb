{
 "cells": [
  {
   "cell_type": "markdown",
   "metadata": {},
   "source": [
    "### First step : Request our data from github API"
   ]
  },
  {
   "cell_type": "code",
   "execution_count": 220,
   "metadata": {},
   "outputs": [],
   "source": [
    "import requests\n",
    "import os\n",
    "from pprint import pprint\n",
    "from requests import Request, Session\n",
    "\n",
    "\n",
    "#So the main idea is that if we directly ask for stats/contributors we doesn't have the link to the next users inside the header\n",
    "#To tackle this issue I decided to ask for the contributors, get the link with regular expression and add /stats after to extract\n",
    "#all the data and put it inside a panda df to study them in the next step.\n",
    "\n",
    "#The request of the stats on the contributors\n",
    "owner=\"facebook\"\n",
    "repo=\"react\"\n",
    "\n",
    "\n",
    "\n",
    "rjson=[_ for _ in range(100)]\n",
    "page=1\n",
    "list_links\n",
    "\n",
    "#we iterate until the end of the list of users\n",
    "while (len(rjson)==100):\n",
    "    #Querry\n",
    "    params = {'page':page, 'anon': 1} #we want the nth page and anonymous users\n",
    "    query_url = f\"https://api.github.com/repos/{owner}/{repo}/contributors\"\n",
    "    r = requests.get(query_url,params = params)\n",
    "    tmp=r.headers\n",
    "    matches=re.findall(\"<.*?>\",tmp['link'])\n",
    "    list_links.append(matches[0][1:-1])\n",
    "    page +=1\n",
    "    rjson = r.json()"
   ]
  },
  {
   "cell_type": "code",
   "execution_count": null,
   "metadata": {},
   "outputs": [],
   "source": [
    "#I've put that here to not lose the code\n",
    "#We are going to put our useful data in a panda df\n",
    "anon=1\n",
    "import pandas as pd\n",
    "contributors = pd.DataFrame(columns=[\"User_ID\"])    \n",
    "#Extract data\n",
    "rjson = r.json()\n",
    "    \n",
    "for i in range(len(rjson)):\n",
    "    try :\n",
    "        contributors = contributors.append({\"User_ID\": rjson[i]['id']}, ignore_index=True) \n",
    "    except :\n",
    "        contributors = contributors.append({\"User_ID\": \"A\"+str(anon)}, ignore_index=True)\n",
    "        anon+=1"
   ]
  }
 ],
 "metadata": {
  "kernelspec": {
   "display_name": "Python 3",
   "language": "python",
   "name": "python3"
  },
  "language_info": {
   "codemirror_mode": {
    "name": "ipython",
    "version": 3
   },
   "file_extension": ".py",
   "mimetype": "text/x-python",
   "name": "python",
   "nbconvert_exporter": "python",
   "pygments_lexer": "ipython3",
   "version": "3.7.6"
  }
 },
 "nbformat": 4,
 "nbformat_minor": 4
}
